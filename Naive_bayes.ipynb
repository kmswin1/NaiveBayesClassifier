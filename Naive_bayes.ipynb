{
 "cells": [
  {
   "cell_type": "code",
   "execution_count": 15,
   "metadata": {},
   "outputs": [],
   "source": [
    "import pickle\n",
    "import os\n",
    "import sys\n",
    "import numpy as np\n",
    "import torch\n",
    "import math"
   ]
  },
  {
   "cell_type": "code",
   "execution_count": 16,
   "metadata": {},
   "outputs": [
    {
     "data": {
      "text/plain": [
       "False"
      ]
     },
     "execution_count": 16,
     "metadata": {},
     "output_type": "execute_result"
    }
   ],
   "source": [
    "os.getcwd()\n",
    "torch.cuda.is_available()"
   ]
  },
  {
   "cell_type": "code",
   "execution_count": null,
   "metadata": {},
   "outputs": [],
   "source": [
    "def make_lex():\n",
    "    lex = []\n",
    "    label = []\n",
    "    docid = []\n",
    "    f = open('blog_spam.txt','r')\n",
    "    while True:\n",
    "        data = f.readline()\n",
    "        data = data.split('\\n')\n",
    "        data = data[0].split('\\t')\n",
    "        if (data[0] == 'tr'):\n",
    "            if (data[1] == '정상'):\n",
    "                for i in range(3,len(data)):\n",
    "                    if data[i] not in lex:\n",
    "                        lex.append(data[i])\n",
    "                        label.append(\"정상\")\n",
    "                        docid.append(data[2])\n",
    "                print (lex)\n",
    "            else:\n",
    "                for i in range(3,len(data)):\n",
    "                    if data[i] not in lex:\n",
    "                        lex.append(data[i])\n",
    "                        label.append(\"비정상\")\n",
    "                        docid.append(data[2])\n",
    "        if len(lex) > 3: break\n",
    "    f.close()\n",
    "    return label,docid,lex"
   ]
  },
  {
   "cell_type": "code",
   "execution_count": null,
   "metadata": {},
   "outputs": [],
   "source": [
    "f = open('blog_spam.txt','r')\n",
    "ham = {}\n",
    "spam = {}\n",
    "data = f.read()\n",
    "data = data.split('\\n')\n",
    "data2 = data[1].split('\\t')\n",
    "data = data[0].split('\\t')\n",
    "for i in range(3,len(data)):\n",
    "    if data[i] not in ham.keys():\n",
    "        ham[data[i]] = 1\n",
    "    else:\n",
    "        ham[data[i]] = ham[data[i]] + 1\n",
    "for i in range(3,len(data2)):\n",
    "    if (data2[i] not in spam.keys()):\n",
    "        spam[data2[i]] = 1\n",
    "    else:\n",
    "        spam[data2[i]] = spam[data2[i]] + 1\n",
    "\n",
    "print(ham)\n",
    "print(spam)"
   ]
  },
  {
   "cell_type": "code",
   "execution_count": null,
   "metadata": {},
   "outputs": [],
   "source": [
    "hamLikelihood = {}\n",
    "spamLikelihood = {}\n",
    "for key in ham.keys():\n",
    "    if key not in spam.keys():\n",
    "        spam[key] = 1\n",
    "for key in spam.keys():\n",
    "    if key not in ham.keys():\n",
    "        ham[key] = 1\n",
    "make_lex()"
   ]
  },
  {
   "cell_type": "code",
   "execution_count": null,
   "metadata": {},
   "outputs": [],
   "source": [
    "train_data = []\n",
    "test_data = []\n",
    "f = open('blog_spam.txt', 'r')\n",
    "while True:\n",
    "    data = f.readline()\n",
    "    data = data.split('\\n')\n",
    "    data = data[0].split('\\t')\n",
    "    if (data[0] == 'tr'):\n",
    "        train_data.append(data)\n",
    "    else:\n",
    "        test_data.append(data)\n",
    "    if not data: break\n",
    "f.close()\n",
    "\n",
    "print(len(train_data))\n",
    "print(len(test_data))"
   ]
  },
  {
   "cell_type": "code",
   "execution_count": null,
   "metadata": {},
   "outputs": [],
   "source": []
  }
 ],
 "metadata": {
  "kernelspec": {
   "display_name": "Python 3",
   "language": "python",
   "name": "python3"
  },
  "language_info": {
   "codemirror_mode": {
    "name": "ipython",
    "version": 3
   },
   "file_extension": ".py",
   "mimetype": "text/x-python",
   "name": "python",
   "nbconvert_exporter": "python",
   "pygments_lexer": "ipython3",
   "version": "3.7.0"
  }
 },
 "nbformat": 4,
 "nbformat_minor": 2
}
